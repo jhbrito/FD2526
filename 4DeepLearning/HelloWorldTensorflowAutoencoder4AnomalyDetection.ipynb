{
 "cells": [
  {
   "cell_type": "markdown",
   "id": "f8dffd78b1d4dcd5",
   "metadata": {},
   "source": [
    "# Autoencoder for Anomaly Detection\n",
    "\n",
    "This Jupyter Notebook follows the example from https://www.tensorflow.org/tutorials/generative/autoencoder"
   ]
  },
  {
   "cell_type": "markdown",
   "id": "82c657fe84b9dba5",
   "metadata": {},
   "source": [
    "## Imports"
   ]
  },
  {
   "cell_type": "code",
   "execution_count": null,
   "id": "9a752fabd59dbf81",
   "metadata": {
    "ExecuteTime": {
     "end_time": "2025-10-27T16:35:27.715037Z",
     "start_time": "2025-10-27T16:35:25.089381Z"
    }
   },
   "outputs": [],
   "source": [
    "import numpy as np\n",
    "import pandas as pd\n",
    "import matplotlib.pyplot as plt\n",
    "import tensorflow as tf\n",
    "from sklearn.metrics import accuracy_score, precision_score, recall_score\n",
    "from sklearn.model_selection import train_test_split\n",
    "from tensorflow.keras import layers\n",
    "from tensorflow.keras.models import Model"
   ]
  },
  {
   "cell_type": "markdown",
   "id": "87412d061973ecb9",
   "metadata": {},
   "source": [
    "## Load data"
   ]
  },
  {
   "cell_type": "code",
   "execution_count": null,
   "id": "5e71e35bfa23a15f",
   "metadata": {
    "ExecuteTime": {
     "end_time": "2025-10-27T16:35:30.008467Z",
     "start_time": "2025-10-27T16:35:27.719910Z"
    }
   },
   "outputs": [],
   "source": [
    "# Download the dataset\n",
    "dataframe = pd.read_csv('http://storage.googleapis.com/download.tensorflow.org/data/ecg.csv', header=None)\n",
    "raw_data = dataframe.values\n",
    "dataframe.head()"
   ]
  },
  {
   "cell_type": "markdown",
   "id": "4344feb3e2b4cb5c",
   "metadata": {},
   "source": [
    "## Split"
   ]
  },
  {
   "cell_type": "code",
   "execution_count": null,
   "id": "715761607db7bf8",
   "metadata": {
    "ExecuteTime": {
     "end_time": "2025-10-27T16:35:30.211961Z",
     "start_time": "2025-10-27T16:35:30.197647Z"
    }
   },
   "outputs": [],
   "source": [
    "# The last element contains the labels\n",
    "labels = raw_data[:, -1]\n",
    "\n",
    "# The other data points are the electrocadriogram data\n",
    "data = raw_data[:, 0:-1]\n",
    "\n",
    "train_data, test_data, train_labels, test_labels = train_test_split(\n",
    "    data, labels, test_size=0.2, random_state=21\n",
    ")"
   ]
  },
  {
   "cell_type": "markdown",
   "id": "7f28cb0c1b9aa862",
   "metadata": {},
   "source": [
    "## Normalize"
   ]
  },
  {
   "cell_type": "code",
   "execution_count": null,
   "id": "5f487f562a554533",
   "metadata": {
    "ExecuteTime": {
     "end_time": "2025-10-27T16:35:31.090417Z",
     "start_time": "2025-10-27T16:35:30.243758Z"
    }
   },
   "outputs": [],
   "source": [
    "min_val = tf.reduce_min(train_data)\n",
    "max_val = tf.reduce_max(train_data)\n",
    "\n",
    "train_data = (train_data - min_val) / (max_val - min_val)\n",
    "test_data = (test_data - min_val) / (max_val - min_val)\n",
    "\n",
    "train_data = tf.cast(train_data, tf.float32)\n",
    "test_data = tf.cast(test_data, tf.float32)"
   ]
  },
  {
   "cell_type": "markdown",
   "id": "7258dcf6f1d2bc70",
   "metadata": {},
   "source": [
    "## Train the autoencoder using only the normal rhythms"
   ]
  },
  {
   "cell_type": "code",
   "execution_count": null,
   "id": "93d29fb46bbaedf6",
   "metadata": {
    "ExecuteTime": {
     "end_time": "2025-10-27T16:35:31.122430Z",
     "start_time": "2025-10-27T16:35:31.095416Z"
    }
   },
   "outputs": [],
   "source": [
    "train_labels = train_labels.astype(bool)\n",
    "test_labels = test_labels.astype(bool)\n",
    "\n",
    "normal_train_data = train_data[train_labels]\n",
    "normal_test_data = test_data[test_labels]\n",
    "\n",
    "anomalous_train_data = train_data[~train_labels]\n",
    "anomalous_test_data = test_data[~test_labels]"
   ]
  },
  {
   "cell_type": "markdown",
   "id": "eddea962c0c61d7d",
   "metadata": {},
   "source": [
    "Plot normal ECG"
   ]
  },
  {
   "cell_type": "code",
   "execution_count": null,
   "id": "a56268b064816051",
   "metadata": {
    "ExecuteTime": {
     "end_time": "2025-10-27T16:35:31.262401Z",
     "start_time": "2025-10-27T16:35:31.138417Z"
    }
   },
   "outputs": [],
   "source": [
    "plt.grid()\n",
    "plt.plot(np.arange(140), normal_train_data[0])\n",
    "plt.title(\"A Normal ECG\")\n",
    "plt.show()"
   ]
  },
  {
   "cell_type": "markdown",
   "id": "196f80ed53ff36be",
   "metadata": {},
   "source": [
    "Plot an anomalous ECG."
   ]
  },
  {
   "cell_type": "code",
   "execution_count": null,
   "id": "cd04a54f9e216178",
   "metadata": {
    "ExecuteTime": {
     "end_time": "2025-10-27T16:35:31.357191Z",
     "start_time": "2025-10-27T16:35:31.279081Z"
    }
   },
   "outputs": [],
   "source": [
    "plt.grid()\n",
    "plt.plot(np.arange(140), anomalous_train_data[0])\n",
    "plt.title(\"An Anomalous ECG\")\n",
    "plt.show()"
   ]
  },
  {
   "cell_type": "markdown",
   "id": "f995ce3b6da19175",
   "metadata": {},
   "source": [
    "Build the model"
   ]
  },
  {
   "cell_type": "code",
   "execution_count": null,
   "id": "6f85b4bb99a3560",
   "metadata": {
    "ExecuteTime": {
     "end_time": "2025-10-27T16:35:31.403838Z",
     "start_time": "2025-10-27T16:35:31.375946Z"
    }
   },
   "outputs": [],
   "source": [
    "class AnomalyDetector(Model):\n",
    "  def __init__(self):\n",
    "    super(AnomalyDetector, self).__init__()\n",
    "    self.encoder = tf.keras.Sequential([\n",
    "      layers.Dense(32, activation=\"relu\"),\n",
    "      layers.Dense(16, activation=\"relu\"),\n",
    "      layers.Dense(8, activation=\"relu\")])\n",
    "\n",
    "    self.decoder = tf.keras.Sequential([\n",
    "      layers.Dense(16, activation=\"relu\"),\n",
    "      layers.Dense(32, activation=\"relu\"),\n",
    "      layers.Dense(140, activation=\"sigmoid\")])\n",
    "\n",
    "  def call(self, x):\n",
    "    encoded = self.encoder(x)\n",
    "    decoded = self.decoder(encoded)\n",
    "    return decoded\n",
    "\n",
    "autoencoder = AnomalyDetector()\n",
    "\n",
    "autoencoder.compile(optimizer='adam', loss='mae')"
   ]
  },
  {
   "cell_type": "markdown",
   "id": "d43d80715136bca7",
   "metadata": {},
   "source": [
    "Train"
   ]
  },
  {
   "cell_type": "code",
   "execution_count": null,
   "id": "63139bf6794efc23",
   "metadata": {
    "ExecuteTime": {
     "end_time": "2025-10-27T16:35:33.422370Z",
     "start_time": "2025-10-27T16:35:31.420837Z"
    }
   },
   "outputs": [],
   "source": [
    "history = autoencoder.fit(normal_train_data, normal_train_data,\n",
    "          epochs=20,\n",
    "          batch_size=512,\n",
    "          validation_data=(test_data, test_data),\n",
    "          shuffle=True)"
   ]
  },
  {
   "cell_type": "markdown",
   "id": "f04fea2fc6cf5c12",
   "metadata": {},
   "source": [
    "Plot learning curves"
   ]
  },
  {
   "cell_type": "code",
   "execution_count": null,
   "id": "6370f0d736275e42",
   "metadata": {
    "ExecuteTime": {
     "end_time": "2025-10-27T16:35:33.549261Z",
     "start_time": "2025-10-27T16:35:33.439362Z"
    }
   },
   "outputs": [],
   "source": [
    "plt.plot(history.history[\"loss\"], label=\"Training Loss\")\n",
    "plt.plot(history.history[\"val_loss\"], label=\"Validation Loss\")\n",
    "plt.legend()"
   ]
  },
  {
   "cell_type": "markdown",
   "id": "d299384d290a0e62",
   "metadata": {},
   "source": [
    "Plot a normal ECG, the ECG reconstruction, and the reconstruction error"
   ]
  },
  {
   "cell_type": "code",
   "execution_count": null,
   "id": "c2220e2a2e50fa85",
   "metadata": {
    "ExecuteTime": {
     "end_time": "2025-10-27T16:35:33.672156Z",
     "start_time": "2025-10-27T16:35:33.569078Z"
    }
   },
   "outputs": [],
   "source": [
    "encoded_data = autoencoder.encoder(normal_test_data).numpy()\n",
    "decoded_data = autoencoder.decoder(encoded_data).numpy()\n",
    "\n",
    "plt.plot(normal_test_data[0], 'b')\n",
    "plt.plot(decoded_data[0], 'r')\n",
    "plt.fill_between(np.arange(140), decoded_data[0], normal_test_data[0], color='lightcoral')\n",
    "plt.legend(labels=[\"Input\", \"Reconstruction\", \"Error\"])\n",
    "plt.show()"
   ]
  },
  {
   "cell_type": "markdown",
   "id": "567b2c7995e08606",
   "metadata": {},
   "source": [
    "Plot a abnormal ECG, the ECG reconstruction, and the reconstruction error"
   ]
  },
  {
   "cell_type": "code",
   "execution_count": null,
   "id": "dd0e529b57237fbf",
   "metadata": {
    "ExecuteTime": {
     "end_time": "2025-10-27T16:35:33.797005Z",
     "start_time": "2025-10-27T16:35:33.704199Z"
    }
   },
   "outputs": [],
   "source": [
    "encoded_data = autoencoder.encoder(anomalous_test_data).numpy()\n",
    "decoded_data = autoencoder.decoder(encoded_data).numpy()\n",
    "\n",
    "plt.plot(anomalous_test_data[0], 'b')\n",
    "plt.plot(decoded_data[0], 'r')\n",
    "plt.fill_between(np.arange(140), decoded_data[0], anomalous_test_data[0], color='lightcoral')\n",
    "plt.legend(labels=[\"Input\", \"Reconstruction\", \"Error\"])\n",
    "plt.show()"
   ]
  },
  {
   "cell_type": "markdown",
   "id": "1297339e7175891",
   "metadata": {},
   "source": [
    "We can detect anomalies by calculating whether the reconstruction loss is greater than a fixed threshold.\n",
    "\n",
    "Let's calculate the mean average error for normal examples from the training set, then classify future examples as anomalous if the reconstruction error is higher than one standard deviation from the training set.\n",
    "\n",
    "Plot the reconstruction error on normal ECGs from the training set"
   ]
  },
  {
   "cell_type": "code",
   "execution_count": null,
   "id": "eedc364173a6678f",
   "metadata": {
    "ExecuteTime": {
     "end_time": "2025-10-27T16:36:39.445908Z",
     "start_time": "2025-10-27T16:35:33.814044Z"
    }
   },
   "outputs": [],
   "source": [
    "reconstructions = autoencoder.predict(normal_train_data)\n",
    "train_loss = tf.keras.losses.mae(reconstructions, normal_train_data)\n",
    "\n",
    "plt.hist(train_loss[None,:], bins=10)\n",
    "plt.xlabel(\"Train loss\")\n",
    "plt.ylabel(\"No of examples\")\n",
    "plt.show()"
   ]
  },
  {
   "cell_type": "markdown",
   "id": "9770c51ed4bf7887",
   "metadata": {},
   "source": [
    "Choose a threshold value that is one standard deviations above the mean."
   ]
  },
  {
   "cell_type": "code",
   "execution_count": null,
   "id": "a2f25f494c7a4a88",
   "metadata": {
    "ExecuteTime": {
     "end_time": "2025-10-27T16:36:39.507437Z",
     "start_time": "2025-10-27T16:36:39.492422Z"
    }
   },
   "outputs": [],
   "source": [
    "threshold = np.mean(train_loss) + np.std(train_loss)\n",
    "print(\"Threshold: \", threshold)"
   ]
  },
  {
   "cell_type": "markdown",
   "id": "1274b6dfaf776cd6",
   "metadata": {},
   "source": [
    "Plot the reconstruction error on abnormal ECGs"
   ]
  },
  {
   "cell_type": "code",
   "execution_count": null,
   "id": "90d3369ca690762f",
   "metadata": {
    "ExecuteTime": {
     "end_time": "2025-10-27T16:36:54.088642Z",
     "start_time": "2025-10-27T16:36:39.542423Z"
    }
   },
   "outputs": [],
   "source": [
    "reconstructions = autoencoder.predict(anomalous_test_data)\n",
    "test_loss = tf.keras.losses.mae(reconstructions, anomalous_test_data)\n",
    "\n",
    "plt.hist(test_loss[None, :], bins=10)\n",
    "plt.xlabel(\"Test loss\")\n",
    "plt.ylabel(\"No of examples\")\n",
    "plt.show()"
   ]
  },
  {
   "cell_type": "markdown",
   "id": "fc555466b9883750",
   "metadata": {},
   "source": [
    "Classify an ECG as an anomaly if the reconstruction error is greater than the threshold."
   ]
  },
  {
   "cell_type": "code",
   "execution_count": null,
   "id": "890516549dad2228",
   "metadata": {
    "ExecuteTime": {
     "end_time": "2025-10-27T16:36:54.134594Z",
     "start_time": "2025-10-27T16:36:54.120540Z"
    }
   },
   "outputs": [],
   "source": [
    "def predict(model, data, threshold):\n",
    "    reconstructions = model(data)\n",
    "    loss = tf.keras.losses.mae(reconstructions, data)\n",
    "    return tf.math.less(loss, threshold)\n",
    "\n",
    "\n",
    "def print_stats(predictions, labels):\n",
    "    print(\"Accuracy = {}\".format(accuracy_score(labels, predictions)))\n",
    "    print(\"Precision = {}\".format(precision_score(labels, predictions)))\n",
    "    print(\"Recall = {}\".format(recall_score(labels, predictions)))\n"
   ]
  },
  {
   "cell_type": "code",
   "execution_count": null,
   "id": "8488bdf99fb2c94f",
   "metadata": {
    "ExecuteTime": {
     "end_time": "2025-10-27T16:36:54.196222Z",
     "start_time": "2025-10-27T16:36:54.166241Z"
    }
   },
   "outputs": [],
   "source": [
    "preds = predict(autoencoder, test_data, threshold)\n",
    "print_stats(preds, test_labels)"
   ]
  },
  {
   "cell_type": "code",
   "execution_count": null,
   "id": "c8e579fd-d3dc-458d-8035-5d304ab88b59",
   "metadata": {},
   "outputs": [],
   "source": []
  }
 ],
 "metadata": {
  "kernelspec": {
   "display_name": "Python 3 (ipykernel)",
   "language": "python",
   "name": "python3"
  },
  "language_info": {
   "codemirror_mode": {
    "name": "ipython",
    "version": 3
   },
   "file_extension": ".py",
   "mimetype": "text/x-python",
   "name": "python",
   "nbconvert_exporter": "python",
   "pygments_lexer": "ipython3",
   "version": "3.10.19"
  }
 },
 "nbformat": 4,
 "nbformat_minor": 5
}
