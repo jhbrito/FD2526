{
 "cells": [
  {
   "cell_type": "markdown",
   "id": "a30a3aa8-02c7-4e79-b78f-fcd5e9339b27",
   "metadata": {},
   "source": [
    "# HelloWorldDataAccessPandas"
   ]
  },
  {
   "cell_type": "markdown",
   "id": "770c24af-48cb-4469-acde-b6b12a1d3164",
   "metadata": {},
   "source": [
    "## Imports"
   ]
  },
  {
   "cell_type": "code",
   "execution_count": 1,
   "id": "69ad83b8-e5b6-48b0-b9ae-ac1d06a5fa7f",
   "metadata": {
    "ExecuteTime": {
     "end_time": "2025-10-06T14:41:46.702456Z",
     "start_time": "2025-10-06T14:41:45.854540Z"
    }
   },
   "outputs": [],
   "source": [
    "import os\n",
    "import numpy as np\n",
    "import pandas as pd"
   ]
  },
  {
   "cell_type": "markdown",
   "id": "0c060b3a-0c31-472f-9606-27b67f088354",
   "metadata": {},
   "source": [
    "## Load data"
   ]
  },
  {
   "cell_type": "code",
   "execution_count": 2,
   "id": "41c8a277-b459-4b24-80c6-491913e4c4a1",
   "metadata": {},
   "outputs": [],
   "source": [
    "filename = \"company_info.xlsx\"\n",
    "folder = \"../Files\"\n",
    "file_path = os.path.join(folder, filename)\n",
    "df1 = pd.read_excel(file_path, engine=\"openpyxl\", sheet_name=0)\n",
    "df2 = pd.read_excel(file_path, engine=\"openpyxl\", sheet_name=1)\n",
    "\n",
    "df = pd.concat([df1, df2])"
   ]
  },
  {
   "cell_type": "markdown",
   "id": "42ffdaaa-1d95-4bea-99a9-ff19a771b73f",
   "metadata": {},
   "source": [
    "## Data Exploration"
   ]
  },
  {
   "cell_type": "markdown",
   "id": "bb901dd6-9afe-4057-af1e-25c14b246233",
   "metadata": {},
   "source": [
    "Typical data exploration tasks:\n",
    "- dataset size (samples, features)\n",
    "- variables without values\n",
    "- description, column statistics"
   ]
  },
  {
   "cell_type": "markdown",
   "id": "cf963c47-af5a-46fc-9b6d-655af49f630b",
   "metadata": {},
   "source": [
    "Data size"
   ]
  },
  {
   "cell_type": "code",
   "execution_count": 3,
   "id": "76e98225-580c-4a4d-afef-9fa3684921c4",
   "metadata": {},
   "outputs": [
    {
     "name": "stdout",
     "output_type": "stream",
     "text": [
      "Shape:(11601, 32)\n"
     ]
    }
   ],
   "source": [
    "print(\"Shape:{}\".format(df.shape))"
   ]
  },
  {
   "cell_type": "markdown",
   "id": "b8c526ae-cb39-4758-a685-3639fdaef2f2",
   "metadata": {},
   "source": [
    "Description"
   ]
  },
  {
   "cell_type": "code",
   "execution_count": 4,
   "id": "06cedea3-dff1-4c11-bd53-a9d5e39e9fed",
   "metadata": {},
   "outputs": [
    {
     "name": "stdout",
     "output_type": "stream",
     "text": [
      "DESCRIBE:          Unnamed: 0 Country ISO code     Situation  \\\n",
      "count   11601.000000            11601  11601.000000   \n",
      "unique           NaN                2           NaN   \n",
      "top              NaN               ES           NaN   \n",
      "freq             NaN             9118           NaN   \n",
      "mean     5977.275924              NaN      0.890699   \n",
      "std      3483.470948              NaN      0.312030   \n",
      "min         1.000000              NaN      0.000000   \n",
      "25%      2950.000000              NaN      1.000000   \n",
      "50%      5953.000000              NaN      1.000000   \n",
      "75%      8956.000000              NaN      1.000000   \n",
      "max     12287.000000              NaN      1.000000   \n",
      "\n",
      "        NACE Rev. 2, core code (4 digits)  X1=Equity/Assets  \\\n",
      "count                             11601.0      11601.000000   \n",
      "unique                                NaN               NaN   \n",
      "top                                   NaN               NaN   \n",
      "freq                                  NaN               NaN   \n",
      "mean                               5510.0         -0.272988   \n",
      "std                                   0.0         41.238443   \n",
      "min                                5510.0      -4362.987459   \n",
      "25%                                5510.0          0.101056   \n",
      "50%                                5510.0          0.396150   \n",
      "75%                                5510.0          0.706105   \n",
      "max                                5510.0          1.000000   \n",
      "\n",
      "        X2=Equity/liabilities  X3=Liabilities/(Equity+Liabilities)  \\\n",
      "count            8.797000e+03                         11601.000000   \n",
      "unique                    NaN                                  NaN   \n",
      "top                       NaN                                  NaN   \n",
      "freq                      NaN                                  NaN   \n",
      "mean             1.820736e+05                             1.272988   \n",
      "std              1.396410e+07                            41.238443   \n",
      "min             -3.519160e+03                             0.000000   \n",
      "25%              1.082230e-01                             0.293895   \n",
      "50%              5.986635e-01                             0.603850   \n",
      "75%              3.067053e+00                             0.898944   \n",
      "max              1.284816e+09                          4363.987459   \n",
      "\n",
      "        X4=Sales/Equity  X5=Fixed Assets/Equity  \\\n",
      "count      11593.000000            11601.000000   \n",
      "unique              NaN                     NaN   \n",
      "top                 NaN                     NaN   \n",
      "freq                NaN                     NaN   \n",
      "mean           4.058713                3.722714   \n",
      "std          154.866981              124.507940   \n",
      "min       -14037.992519            -6882.670823   \n",
      "25%            0.234932                0.330362   \n",
      "50%            0.926925                1.113227   \n",
      "75%            3.010856                2.419254   \n",
      "max         4990.270440             8080.238547   \n",
      "\n",
      "        X6=Current Liabilities/Equity  ...  X19=EBIT/Assets  \\\n",
      "count                    11601.000000  ...     11601.000000   \n",
      "unique                            NaN  ...              NaN   \n",
      "top                               NaN  ...              NaN   \n",
      "freq                              NaN  ...              NaN   \n",
      "mean                         1.230424  ...        -0.005515   \n",
      "std                         69.063038  ...         3.752395   \n",
      "min                      -4741.810732  ...      -277.275812   \n",
      "25%                          0.051105  ...        -0.006855   \n",
      "50%                          0.251410  ...         0.031487   \n",
      "75%                          1.013535  ...         0.095628   \n",
      "max                       1656.762323  ...       272.740077   \n",
      "\n",
      "        X20=Net Profit Before Tax / (Equity+Long-term Liabilities)  \\\n",
      "count                                        11601.000000            \n",
      "unique                                                NaN            \n",
      "top                                                   NaN            \n",
      "freq                                                  NaN            \n",
      "mean                                             0.090661            \n",
      "std                                              9.481547            \n",
      "min                                           -849.720451            \n",
      "25%                                             -0.005924            \n",
      "50%                                              0.042220            \n",
      "75%                                              0.164157            \n",
      "max                                            400.673601            \n",
      "\n",
      "        X21=Net Income / Sales  X22=Net Income / Equity  \\\n",
      "count             11593.000000             11601.000000   \n",
      "unique                     NaN                      NaN   \n",
      "top                        NaN                      NaN   \n",
      "freq                       NaN                      NaN   \n",
      "mean                 -1.212489                 0.346643   \n",
      "std                 115.175819                31.914030   \n",
      "min              -12308.372472              -849.720451   \n",
      "25%                  -0.033400                 0.000029   \n",
      "50%                   0.031258                 0.070618   \n",
      "75%                   0.116301                 0.235617   \n",
      "max                 431.763174              3308.576060   \n",
      "\n",
      "        X23=Net Income/ (Equity+Long-term Liabilities)  \\\n",
      "count                                     11601.000000   \n",
      "unique                                             NaN   \n",
      "top                                                NaN   \n",
      "freq                                               NaN   \n",
      "mean                                          0.061202   \n",
      "std                                           9.291779   \n",
      "min                                        -849.720451   \n",
      "25%                                          -0.005507   \n",
      "50%                                           0.033834   \n",
      "75%                                           0.130784   \n",
      "max                                         400.673601   \n",
      "\n",
      "        X24=Total Liabilities / Sales  X25=Sales / Current Assets  \\\n",
      "count                    11593.000000                11573.000000   \n",
      "unique                            NaN                         NaN   \n",
      "top                               NaN                         NaN   \n",
      "freq                              NaN                         NaN   \n",
      "mean                        11.381598                    9.058675   \n",
      "std                        231.293364                  188.990360   \n",
      "min                          0.000000                  -50.966605   \n",
      "25%                          0.275477                    1.312750   \n",
      "50%                          0.836321                    2.831386   \n",
      "75%                          2.504112                    5.886083   \n",
      "max                      22290.683831                17934.422075   \n",
      "\n",
      "        X26=Financing Charge / Sales  X27=EBIT / Sales  \\\n",
      "count                    9103.000000      11593.000000   \n",
      "unique                           NaN               NaN   \n",
      "top                              NaN               NaN   \n",
      "freq                             NaN               NaN   \n",
      "mean                        0.355664         -0.974579   \n",
      "std                        21.118584         97.333064   \n",
      "min                         0.000000     -10358.609354   \n",
      "25%                         0.002513         -0.017899   \n",
      "50%                         0.010305          0.056586   \n",
      "75%                         0.036431          0.162105   \n",
      "max                      2008.729621        529.126774   \n",
      "\n",
      "        X28=(Equity+Long-term Liabilities) / Fixed Assets  \n",
      "count                                        11322.000000  \n",
      "unique                                                NaN  \n",
      "top                                                   NaN  \n",
      "freq                                                  NaN  \n",
      "mean                                             9.130513  \n",
      "std                                            451.661718  \n",
      "min                                          -7614.627169  \n",
      "25%                                              0.772204  \n",
      "50%                                              1.015021  \n",
      "75%                                              1.390279  \n",
      "max                                          42575.659819  \n",
      "\n",
      "[11 rows x 32 columns]\n"
     ]
    }
   ],
   "source": [
    "print(\"DESCRIBE:{}\".format(df.describe(include=\"all\")))"
   ]
  },
  {
   "cell_type": "markdown",
   "id": "713e83b8-0f3c-4306-ac88-530e78238ff5",
   "metadata": {},
   "source": [
    "Info"
   ]
  },
  {
   "cell_type": "code",
   "execution_count": 5,
   "id": "aeb71276-c0e6-4f6d-9a84-00661dc2277b",
   "metadata": {},
   "outputs": [
    {
     "name": "stdout",
     "output_type": "stream",
     "text": [
      "INFO:<bound method DataFrame.info of       Unnamed: 0 Country ISO code  Situation  \\\n",
      "0            1.0               ES          1   \n",
      "1            2.0               ES          1   \n",
      "2            5.0               ES          1   \n",
      "3            6.0               ES          1   \n",
      "4            7.0               ES          1   \n",
      "...          ...              ...        ...   \n",
      "1263     12268.0               ES          0   \n",
      "1264     12279.0               ES          0   \n",
      "1265     12280.0               ES          0   \n",
      "1266     12282.0               ES          0   \n",
      "1267     12287.0               ES          0   \n",
      "\n",
      "      NACE Rev. 2, core code (4 digits)  X1=Equity/Assets  \\\n",
      "0                                  5510          0.914967   \n",
      "1                                  5510          0.657150   \n",
      "2                                  5510          0.874911   \n",
      "3                                  5510          0.288364   \n",
      "4                                  5510          0.313634   \n",
      "...                                 ...               ...   \n",
      "1263                               5510          0.038780   \n",
      "1264                               5510          0.132402   \n",
      "1265                               5510          0.102748   \n",
      "1266                               5510          0.122541   \n",
      "1267                               5510          0.074913   \n",
      "\n",
      "      X2=Equity/liabilities  X3=Liabilities/(Equity+Liabilities)  \\\n",
      "0                 31.625921                             0.085033   \n",
      "1                  1.310546                             0.342850   \n",
      "2                  9.834840                             0.125089   \n",
      "3                  0.260365                             0.711636   \n",
      "4                  1.412949                             0.686366   \n",
      "...                     ...                                  ...   \n",
      "1263               0.646050                             0.961220   \n",
      "1264                    NaN                             0.867598   \n",
      "1265               0.078465                             0.897252   \n",
      "1266                    NaN                             0.877459   \n",
      "1267                    NaN                             0.925087   \n",
      "\n",
      "      X4=Sales/Equity  X5=Fixed Assets/Equity  X6=Current Liabilities/Equity  \\\n",
      "0            0.605427                0.980336                       0.062620   \n",
      "1            0.398802                1.331862                       0.129197   \n",
      "2            0.527079                1.037105                       0.089194   \n",
      "3            1.456033                2.836879                       0.523637   \n",
      "4            1.886565                2.355297                       1.789053   \n",
      "...               ...                     ...                            ...   \n",
      "1263         0.069219               24.623224                      24.012304   \n",
      "1264         0.031589                0.390985                       6.552773   \n",
      "1265         0.004280                9.731056                       2.360276   \n",
      "1266         0.093735                7.735652                       7.160535   \n",
      "1267         0.288396                6.693392                      12.348736   \n",
      "\n",
      "      ...  X19=EBIT/Assets  \\\n",
      "0     ...         0.169036   \n",
      "1     ...         0.063225   \n",
      "2     ...         0.106387   \n",
      "3     ...         0.101689   \n",
      "4     ...         0.054118   \n",
      "...   ...              ...   \n",
      "1263  ...        -0.022147   \n",
      "1264  ...        -0.286838   \n",
      "1265  ...        -0.088741   \n",
      "1266  ...        -0.058263   \n",
      "1267  ...        -0.587382   \n",
      "\n",
      "      X20=Net Profit Before Tax / (Equity+Long-term Liabilities)  \\\n",
      "0                                              0.180646            \n",
      "1                                              0.073787            \n",
      "2                                              0.134532            \n",
      "3                                              0.107153            \n",
      "4                                              0.111443            \n",
      "...                                                 ...            \n",
      "1263                                          -0.349022            \n",
      "1264                                          -2.194782            \n",
      "1265                                          -0.117152            \n",
      "1266                                          -0.475458            \n",
      "1267                                          -7.840813            \n",
      "\n",
      "      X21=Net Income / Sales  X22=Net Income / Equity  \\\n",
      "0                   0.238953                 0.144669   \n",
      "1                   0.186818                 0.074503   \n",
      "2                   0.209270                 0.110302   \n",
      "3                   0.156919                 0.228479   \n",
      "4                   0.058005                 0.109431   \n",
      "...                      ...                      ...   \n",
      "1263               -8.944638                -0.619142   \n",
      "1264              -52.270831                -1.651170   \n",
      "1265             -151.362076                -0.647756   \n",
      "1266               -5.072346                -0.475458   \n",
      "1267              -20.390733                -5.880609   \n",
      "\n",
      "      X23=Net Income/ (Equity+Long-term Liabilities)  \\\n",
      "0                                           0.140412   \n",
      "1                                           0.053502   \n",
      "2                                           0.104673   \n",
      "3                                           0.077603   \n",
      "4                                           0.078200   \n",
      "...                                              ...   \n",
      "1263                                       -0.349022   \n",
      "1264                                       -1.651170   \n",
      "1265                                       -0.087864   \n",
      "1266                                       -0.475458   \n",
      "1267                                       -5.880609   \n",
      "\n",
      "      X24=Total Liabilities / Sales  X25=Sales / Current Assets  \\\n",
      "0                          0.153505                    5.376819   \n",
      "1                          1.308227                    2.100485   \n",
      "2                          0.271256                    4.978656   \n",
      "3                          1.694907                    2.307642   \n",
      "4                          1.160009                    2.264415   \n",
      "...                             ...                         ...   \n",
      "1263                     358.082365                    0.059517   \n",
      "1264                     207.440111                    0.004411   \n",
      "1265                    2040.546806                    2.871060   \n",
      "1266                      76.391020                    0.220614   \n",
      "1267                      42.818657                    0.043333   \n",
      "\n",
      "      X26=Financing Charge / Sales  X27=EBIT / Sales  \\\n",
      "0                         0.003312          0.305149   \n",
      "1                         0.010196          0.241251   \n",
      "2                         0.000246          0.230701   \n",
      "3                         0.031928          0.242192   \n",
      "4                         0.032251          0.091463   \n",
      "...                            ...               ...   \n",
      "1263                      0.694227         -8.250412   \n",
      "1264                      3.218312        -68.582067   \n",
      "1265                           NaN       -201.816068   \n",
      "1266                           NaN         -5.072346   \n",
      "1267                           NaN        -27.187646   \n",
      "\n",
      "      X28=(Equity+Long-term Liabilities) / Fixed Assets  \n",
      "0                                              1.050982  \n",
      "1                                              1.045549  \n",
      "2                                              1.016077  \n",
      "3                                              1.037832  \n",
      "4                                              0.594141  \n",
      "...                                                 ...  \n",
      "1263                                           0.072043  \n",
      "1264                                           2.557644  \n",
      "1265                                           0.757602  \n",
      "1266                                           0.129272  \n",
      "1267                                           0.149401  \n",
      "\n",
      "[11601 rows x 32 columns]>\n"
     ]
    }
   ],
   "source": [
    "print(\"INFO:{}\".format(df.info))"
   ]
  },
  {
   "cell_type": "markdown",
   "id": "4b463359-8d26-4cc8-83ea-b41060166a39",
   "metadata": {},
   "source": [
    "Columns"
   ]
  },
  {
   "cell_type": "code",
   "execution_count": 6,
   "id": "c8533969-ba83-4af2-9ae7-5363e3c935bb",
   "metadata": {},
   "outputs": [
    {
     "name": "stdout",
     "output_type": "stream",
     "text": [
      "Columns:Index(['Unnamed: 0', 'Country ISO code', 'Situation',\n",
      "       'NACE Rev. 2, core code (4 digits)', 'X1=Equity/Assets',\n",
      "       'X2=Equity/liabilities', 'X3=Liabilities/(Equity+Liabilities)',\n",
      "       'X4=Sales/Equity', 'X5=Fixed Assets/Equity',\n",
      "       'X6=Current Liabilities/Equity', 'X7=Current Liabilities /Inventory',\n",
      "       'X8=Fixed Assets/(Equity+Long-term liabilities)',\n",
      "       'X9=Equity/(Equity+Long-term Liabilities)',\n",
      "       'X10= Long-term Liabilities/Fixed Assets', 'X11=Liabilities/Equity',\n",
      "       'X12=Liabilities/Assets',\n",
      "       'X13=(Current Assets-Inventory)/Current Liabilities',\n",
      "       'X14=Current Assets/Current Liabilities',\n",
      "       'X15=Cash/Current Liabilities', 'X16=Net Income/Total Assets',\n",
      "       'X17=P/L Before Tax / Assets', 'X18=Assets/Sales', 'X19=EBIT/Assets',\n",
      "       'X20=Net Profit Before Tax / (Equity+Long-term Liabilities)',\n",
      "       'X21=Net Income / Sales', 'X22=Net Income / Equity',\n",
      "       'X23=Net Income/ (Equity+Long-term Liabilities)',\n",
      "       'X24=Total Liabilities / Sales', 'X25=Sales / Current Assets',\n",
      "       'X26=Financing Charge / Sales', 'X27=EBIT / Sales',\n",
      "       'X28=(Equity+Long-term Liabilities) / Fixed Assets'],\n",
      "      dtype='object')\n"
     ]
    }
   ],
   "source": [
    "print(\"Columns:{}\".format(df.columns))"
   ]
  },
  {
   "cell_type": "markdown",
   "id": "63f7af6f-30a2-45d7-b487-5d6dfa5cc2c1",
   "metadata": {},
   "source": [
    "HEAD"
   ]
  },
  {
   "cell_type": "code",
   "execution_count": 7,
   "id": "4b223cdc-14e4-49be-b8dd-e6fffc71c552",
   "metadata": {},
   "outputs": [
    {
     "name": "stdout",
     "output_type": "stream",
     "text": [
      "HEAD:   Unnamed: 0 Country ISO code  Situation  NACE Rev. 2, core code (4 digits)  \\\n",
      "0         1.0               ES          1                               5510   \n",
      "1         2.0               ES          1                               5510   \n",
      "2         5.0               ES          1                               5510   \n",
      "3         6.0               ES          1                               5510   \n",
      "4         7.0               ES          1                               5510   \n",
      "\n",
      "   X1=Equity/Assets  X2=Equity/liabilities  \\\n",
      "0          0.914967              31.625921   \n",
      "1          0.657150               1.310546   \n",
      "2          0.874911               9.834840   \n",
      "3          0.288364               0.260365   \n",
      "4          0.313634               1.412949   \n",
      "\n",
      "   X3=Liabilities/(Equity+Liabilities)  X4=Sales/Equity  \\\n",
      "0                             0.085033         0.605427   \n",
      "1                             0.342850         0.398802   \n",
      "2                             0.125089         0.527079   \n",
      "3                             0.711636         1.456033   \n",
      "4                             0.686366         1.886565   \n",
      "\n",
      "   X5=Fixed Assets/Equity  X6=Current Liabilities/Equity  ...  \\\n",
      "0                0.980336                       0.062620  ...   \n",
      "1                1.331862                       0.129197  ...   \n",
      "2                1.037105                       0.089194  ...   \n",
      "3                2.836879                       0.523637  ...   \n",
      "4                2.355297                       1.789053  ...   \n",
      "\n",
      "   X19=EBIT/Assets  \\\n",
      "0         0.169036   \n",
      "1         0.063225   \n",
      "2         0.106387   \n",
      "3         0.101689   \n",
      "4         0.054118   \n",
      "\n",
      "   X20=Net Profit Before Tax / (Equity+Long-term Liabilities)  \\\n",
      "0                                           0.180646            \n",
      "1                                           0.073787            \n",
      "2                                           0.134532            \n",
      "3                                           0.107153            \n",
      "4                                           0.111443            \n",
      "\n",
      "   X21=Net Income / Sales  X22=Net Income / Equity  \\\n",
      "0                0.238953                 0.144669   \n",
      "1                0.186818                 0.074503   \n",
      "2                0.209270                 0.110302   \n",
      "3                0.156919                 0.228479   \n",
      "4                0.058005                 0.109431   \n",
      "\n",
      "   X23=Net Income/ (Equity+Long-term Liabilities)  \\\n",
      "0                                        0.140412   \n",
      "1                                        0.053502   \n",
      "2                                        0.104673   \n",
      "3                                        0.077603   \n",
      "4                                        0.078200   \n",
      "\n",
      "   X24=Total Liabilities / Sales  X25=Sales / Current Assets  \\\n",
      "0                       0.153505                    5.376819   \n",
      "1                       1.308227                    2.100485   \n",
      "2                       0.271256                    4.978656   \n",
      "3                       1.694907                    2.307642   \n",
      "4                       1.160009                    2.264415   \n",
      "\n",
      "   X26=Financing Charge / Sales  X27=EBIT / Sales  \\\n",
      "0                      0.003312          0.305149   \n",
      "1                      0.010196          0.241251   \n",
      "2                      0.000246          0.230701   \n",
      "3                      0.031928          0.242192   \n",
      "4                      0.032251          0.091463   \n",
      "\n",
      "   X28=(Equity+Long-term Liabilities) / Fixed Assets  \n",
      "0                                           1.050982  \n",
      "1                                           1.045549  \n",
      "2                                           1.016077  \n",
      "3                                           1.037832  \n",
      "4                                           0.594141  \n",
      "\n",
      "[5 rows x 32 columns]\n"
     ]
    }
   ],
   "source": [
    "print(\"HEAD:{}\".format(df.head()))"
   ]
  },
  {
   "cell_type": "markdown",
   "id": "03fd689e-5873-481e-893e-d20369a43b37",
   "metadata": {},
   "source": [
    "Data types"
   ]
  },
  {
   "cell_type": "code",
   "execution_count": 8,
   "id": "48e009bf-3780-4e8d-8af7-0f4e88538674",
   "metadata": {},
   "outputs": [
    {
     "name": "stdout",
     "output_type": "stream",
     "text": [
      "DTYPES:Unnamed: 0                                                    float64\n",
      "Country ISO code                                               object\n",
      "Situation                                                       int64\n",
      "NACE Rev. 2, core code (4 digits)                               int64\n",
      "X1=Equity/Assets                                              float64\n",
      "X2=Equity/liabilities                                         float64\n",
      "X3=Liabilities/(Equity+Liabilities)                           float64\n",
      "X4=Sales/Equity                                               float64\n",
      "X5=Fixed Assets/Equity                                        float64\n",
      "X6=Current Liabilities/Equity                                 float64\n",
      "X7=Current Liabilities /Inventory                             float64\n",
      "X8=Fixed Assets/(Equity+Long-term liabilities)                float64\n",
      "X9=Equity/(Equity+Long-term Liabilities)                      float64\n",
      "X10= Long-term Liabilities/Fixed Assets                       float64\n",
      "X11=Liabilities/Equity                                        float64\n",
      "X12=Liabilities/Assets                                        float64\n",
      "X13=(Current Assets-Inventory)/Current Liabilities            float64\n",
      "X14=Current Assets/Current Liabilities                        float64\n",
      "X15=Cash/Current Liabilities                                  float64\n",
      "X16=Net Income/Total Assets                                   float64\n",
      "X17=P/L Before Tax / Assets                                   float64\n",
      "X18=Assets/Sales                                              float64\n",
      "X19=EBIT/Assets                                               float64\n",
      "X20=Net Profit Before Tax / (Equity+Long-term Liabilities)    float64\n",
      "X21=Net Income / Sales                                        float64\n",
      "X22=Net Income / Equity                                       float64\n",
      "X23=Net Income/ (Equity+Long-term Liabilities)                float64\n",
      "X24=Total Liabilities / Sales                                 float64\n",
      "X25=Sales / Current Assets                                    float64\n",
      "X26=Financing Charge / Sales                                  float64\n",
      "X27=EBIT / Sales                                              float64\n",
      "X28=(Equity+Long-term Liabilities) / Fixed Assets             float64\n",
      "dtype: object\n"
     ]
    }
   ],
   "source": [
    "print(\"DTYPES:{}\".format(df.dtypes))"
   ]
  },
  {
   "cell_type": "markdown",
   "id": "88be839e-bc34-490e-8f3d-fd34b0e2ab6e",
   "metadata": {},
   "source": [
    "## Data cleanup "
   ]
  },
  {
   "cell_type": "markdown",
   "id": "8be96b1a-840d-4538-9202-6f18f29a3eb9",
   "metadata": {},
   "source": [
    "Typical columns to drop:\n",
    "- semanticaly meaningless columns\n",
    "- columns with little data\n",
    "- columns with very low variance"
   ]
  },
  {
   "cell_type": "markdown",
   "id": "79c22d8d-7b9c-41b0-bfb3-93a3d1579712",
   "metadata": {},
   "source": [
    "Drop useless columns and columns with little data"
   ]
  },
  {
   "cell_type": "code",
   "execution_count": 9,
   "id": "04709fbd-496a-47b5-8923-1e1270d1b702",
   "metadata": {},
   "outputs": [],
   "source": [
    "useless_columns = [\"Unnamed: 0\",\n",
    "                   \"NACE Rev. 2, core code (4 digits)\"]\n",
    "\n",
    "bad_columns_to_drop = [\"X2=Equity/liabilities\",\n",
    "                       \"X7=Current Liabilities /Inventory\",\n",
    "                       \"X26=Financing Charge / Sales\"]\n",
    "\n",
    "df.drop(columns=useless_columns, inplace=True)\n",
    "df.drop(columns=bad_columns_to_drop, inplace=True)"
   ]
  },
  {
   "cell_type": "markdown",
   "id": "2b0844a0-a79a-459c-b927-39281b28706a",
   "metadata": {},
   "source": [
    "Convert country names to numbers"
   ]
  },
  {
   "cell_type": "code",
   "execution_count": 10,
   "id": "f903442c-d84d-4659-a868-8f6f9b95f635",
   "metadata": {},
   "outputs": [
    {
     "name": "stderr",
     "output_type": "stream",
     "text": [
      "C:\\Users\\jhasb\\AppData\\Local\\Temp\\ipykernel_2060\\3681162707.py:2: FutureWarning: Downcasting behavior in `replace` is deprecated and will be removed in a future version. To retain the old behavior, explicitly call `result.infer_objects(copy=False)`. To opt-in to the future behavior, set `pd.set_option('future.no_silent_downcasting', True)`\n",
      "  df.replace(\"PT\", 1, inplace=True)\n"
     ]
    }
   ],
   "source": [
    "df.replace(\"ES\", 0, inplace=True)\n",
    "df.replace(\"PT\", 1, inplace=True)"
   ]
  },
  {
   "cell_type": "markdown",
   "id": "6efc9212-34cf-40d4-a555-8f691fb71506",
   "metadata": {},
   "source": [
    "Check what data looks like"
   ]
  },
  {
   "cell_type": "code",
   "execution_count": 11,
   "id": "6d193928-fe07-4f16-88ef-64cfb1494728",
   "metadata": {},
   "outputs": [
    {
     "name": "stdout",
     "output_type": "stream",
     "text": [
      "DESCRIBE:       Country ISO code     Situation  X1=Equity/Assets  \\\n",
      "count      11601.000000  11601.000000      11601.000000   \n",
      "mean           0.214033      0.890699         -0.272988   \n",
      "std            0.410168      0.312030         41.238443   \n",
      "min            0.000000      0.000000      -4362.987459   \n",
      "25%            0.000000      1.000000          0.101056   \n",
      "50%            0.000000      1.000000          0.396150   \n",
      "75%            0.000000      1.000000          0.706105   \n",
      "max            1.000000      1.000000          1.000000   \n",
      "\n",
      "       X3=Liabilities/(Equity+Liabilities)  X4=Sales/Equity  \\\n",
      "count                         11601.000000     11593.000000   \n",
      "mean                              1.272988         4.058713   \n",
      "std                              41.238443       154.866981   \n",
      "min                               0.000000    -14037.992519   \n",
      "25%                               0.293895         0.234932   \n",
      "50%                               0.603850         0.926925   \n",
      "75%                               0.898944         3.010856   \n",
      "max                            4363.987459      4990.270440   \n",
      "\n",
      "       X5=Fixed Assets/Equity  X6=Current Liabilities/Equity  \\\n",
      "count            11601.000000                   11601.000000   \n",
      "mean                 3.722714                       1.230424   \n",
      "std                124.507940                      69.063038   \n",
      "min              -6882.670823                   -4741.810732   \n",
      "25%                  0.330362                       0.051105   \n",
      "50%                  1.113227                       0.251410   \n",
      "75%                  2.419254                       1.013535   \n",
      "max               8080.238547                    1656.762323   \n",
      "\n",
      "       X8=Fixed Assets/(Equity+Long-term liabilities)  \\\n",
      "count                                    11601.000000   \n",
      "mean                                         1.497897   \n",
      "std                                         86.889921   \n",
      "min                                      -4379.241312   \n",
      "25%                                          0.501965   \n",
      "50%                                          0.925011   \n",
      "75%                                          1.119867   \n",
      "max                                       8000.406468   \n",
      "\n",
      "       X9=Equity/(Equity+Long-term Liabilities)  \\\n",
      "count                              11601.000000   \n",
      "mean                                   0.002456   \n",
      "std                                   67.063881   \n",
      "min                                -7127.995621   \n",
      "25%                                    0.351385   \n",
      "50%                                    0.784768   \n",
      "75%                                    1.000000   \n",
      "max                                  774.844070   \n",
      "\n",
      "       X10= Long-term Liabilities/Fixed Assets  ...  X18=Assets/Sales  \\\n",
      "count                             11322.000000  ...      11593.000000   \n",
      "mean                                  4.524240  ...         18.361600   \n",
      "std                                 169.681568  ...        309.682643   \n",
      "min                                 -60.343959  ...          0.001214   \n",
      "25%                                   0.003582  ...          0.714952   \n",
      "50%                                   0.262898  ...          1.848064   \n",
      "75%                                   0.675576  ...          4.305641   \n",
      "max                               12244.336106  ...      26831.656411   \n",
      "\n",
      "       X19=EBIT/Assets  \\\n",
      "count     11601.000000   \n",
      "mean         -0.005515   \n",
      "std           3.752395   \n",
      "min        -277.275812   \n",
      "25%          -0.006855   \n",
      "50%           0.031487   \n",
      "75%           0.095628   \n",
      "max         272.740077   \n",
      "\n",
      "       X20=Net Profit Before Tax / (Equity+Long-term Liabilities)  \\\n",
      "count                                       11601.000000            \n",
      "mean                                            0.090661            \n",
      "std                                             9.481547            \n",
      "min                                          -849.720451            \n",
      "25%                                            -0.005924            \n",
      "50%                                             0.042220            \n",
      "75%                                             0.164157            \n",
      "max                                           400.673601            \n",
      "\n",
      "       X21=Net Income / Sales  X22=Net Income / Equity  \\\n",
      "count            11593.000000             11601.000000   \n",
      "mean                -1.212489                 0.346643   \n",
      "std                115.175819                31.914030   \n",
      "min             -12308.372472              -849.720451   \n",
      "25%                 -0.033400                 0.000029   \n",
      "50%                  0.031258                 0.070618   \n",
      "75%                  0.116301                 0.235617   \n",
      "max                431.763174              3308.576060   \n",
      "\n",
      "       X23=Net Income/ (Equity+Long-term Liabilities)  \\\n",
      "count                                    11601.000000   \n",
      "mean                                         0.061202   \n",
      "std                                          9.291779   \n",
      "min                                       -849.720451   \n",
      "25%                                         -0.005507   \n",
      "50%                                          0.033834   \n",
      "75%                                          0.130784   \n",
      "max                                        400.673601   \n",
      "\n",
      "       X24=Total Liabilities / Sales  X25=Sales / Current Assets  \\\n",
      "count                   11593.000000                11573.000000   \n",
      "mean                       11.381598                    9.058675   \n",
      "std                       231.293364                  188.990360   \n",
      "min                         0.000000                  -50.966605   \n",
      "25%                         0.275477                    1.312750   \n",
      "50%                         0.836321                    2.831386   \n",
      "75%                         2.504112                    5.886083   \n",
      "max                     22290.683831                17934.422075   \n",
      "\n",
      "       X27=EBIT / Sales  X28=(Equity+Long-term Liabilities) / Fixed Assets  \n",
      "count      11593.000000                                       11322.000000  \n",
      "mean          -0.974579                                           9.130513  \n",
      "std           97.333064                                         451.661718  \n",
      "min       -10358.609354                                       -7614.627169  \n",
      "25%           -0.017899                                           0.772204  \n",
      "50%            0.056586                                           1.015021  \n",
      "75%            0.162105                                           1.390279  \n",
      "max          529.126774                                       42575.659819  \n",
      "\n",
      "[8 rows x 27 columns]\n"
     ]
    }
   ],
   "source": [
    "print(\"DESCRIBE:{}\".format(df.describe(include=\"all\")))"
   ]
  },
  {
   "cell_type": "code",
   "execution_count": 12,
   "id": "8e78842a-4ace-412a-88af-7cc99e76864d",
   "metadata": {},
   "outputs": [
    {
     "name": "stdout",
     "output_type": "stream",
     "text": [
      "DTYPES:Country ISO code                                                int64\n",
      "Situation                                                       int64\n",
      "X1=Equity/Assets                                              float64\n",
      "X3=Liabilities/(Equity+Liabilities)                           float64\n",
      "X4=Sales/Equity                                               float64\n",
      "X5=Fixed Assets/Equity                                        float64\n",
      "X6=Current Liabilities/Equity                                 float64\n",
      "X8=Fixed Assets/(Equity+Long-term liabilities)                float64\n",
      "X9=Equity/(Equity+Long-term Liabilities)                      float64\n",
      "X10= Long-term Liabilities/Fixed Assets                       float64\n",
      "X11=Liabilities/Equity                                        float64\n",
      "X12=Liabilities/Assets                                        float64\n",
      "X13=(Current Assets-Inventory)/Current Liabilities            float64\n",
      "X14=Current Assets/Current Liabilities                        float64\n",
      "X15=Cash/Current Liabilities                                  float64\n",
      "X16=Net Income/Total Assets                                   float64\n",
      "X17=P/L Before Tax / Assets                                   float64\n",
      "X18=Assets/Sales                                              float64\n",
      "X19=EBIT/Assets                                               float64\n",
      "X20=Net Profit Before Tax / (Equity+Long-term Liabilities)    float64\n",
      "X21=Net Income / Sales                                        float64\n",
      "X22=Net Income / Equity                                       float64\n",
      "X23=Net Income/ (Equity+Long-term Liabilities)                float64\n",
      "X24=Total Liabilities / Sales                                 float64\n",
      "X25=Sales / Current Assets                                    float64\n",
      "X27=EBIT / Sales                                              float64\n",
      "X28=(Equity+Long-term Liabilities) / Fixed Assets             float64\n",
      "dtype: object\n"
     ]
    }
   ],
   "source": [
    "print(\"DTYPES:{}\".format(df.dtypes))"
   ]
  },
  {
   "cell_type": "markdown",
   "id": "10339af8-d259-4db8-9090-8668f3581b29",
   "metadata": {},
   "source": [
    "Drop lines with nans"
   ]
  },
  {
   "cell_type": "code",
   "execution_count": 13,
   "id": "6f206389-1506-423a-b74a-21e8089c8ef8",
   "metadata": {},
   "outputs": [],
   "source": [
    "df.dropna(axis=0, inplace=True)\n",
    "df.reset_index(drop=True, inplace=True)"
   ]
  },
  {
   "cell_type": "markdown",
   "id": "7cb22bc4-da33-45aa-9a60-0f0e32cb2657",
   "metadata": {},
   "source": [
    "Convert country code column to int"
   ]
  },
  {
   "cell_type": "code",
   "execution_count": null,
   "id": "239b4b97-881a-4e72-b290-51e0b8afd991",
   "metadata": {},
   "outputs": [],
   "source": [
    "for column in df.columns:\n",
    "    if column == \"Country ISO code\":\n",
    "        df[column] = df[column].astype(\"int\")"
   ]
  },
  {
   "cell_type": "markdown",
   "id": "8c8d0236-570e-44fa-a545-a3a935a82dae",
   "metadata": {},
   "source": [
    "Separate features from class and convert to numpy"
   ]
  },
  {
   "cell_type": "code",
   "execution_count": null,
   "id": "8d632713-4c17-44ef-a769-ff1398c972de",
   "metadata": {},
   "outputs": [],
   "source": [
    "Y = np.array(df[\"Situation\"])\n",
    "df.drop(\"Situation\", axis=1, inplace=True)\n",
    "X = np.array(df, dtype=\"float64\")"
   ]
  },
  {
   "cell_type": "code",
   "execution_count": null,
   "id": "4607907b-4132-48f8-a317-e8e32af4fc24",
   "metadata": {},
   "outputs": [],
   "source": []
  }
 ],
 "metadata": {
  "kernelspec": {
   "display_name": "Python 3 (ipykernel)",
   "language": "python",
   "name": "python3"
  },
  "language_info": {
   "codemirror_mode": {
    "name": "ipython",
    "version": 3
   },
   "file_extension": ".py",
   "mimetype": "text/x-python",
   "name": "python",
   "nbconvert_exporter": "python",
   "pygments_lexer": "ipython3",
   "version": "3.11.13"
  }
 },
 "nbformat": 4,
 "nbformat_minor": 5
}
